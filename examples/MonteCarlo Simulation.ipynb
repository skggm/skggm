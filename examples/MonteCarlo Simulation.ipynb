{
 "cells": [
  {
   "cell_type": "code",
   "execution_count": null,
   "metadata": {
    "collapsed": false
   },
   "outputs": [
    {
     "name": "stdout",
     "output_type": "stream",
     "text": [
      "at alpha 0.00498212829644 (0/3)\n",
      "   Graph has 19 nonzero entries\n"
     ]
    },
    {
     "name": "stderr",
     "output_type": "stream",
     "text": [
      "<string>:61: VisibleDeprecationWarning: using a non-integer number instead of an integer will result in an error in the future\n"
     ]
    }
   ],
   "source": [
    "%run \"examples/simulate_networks.py\"\n",
    "\n",
    "\n",
    "n_features = 20\n",
    "n_trials = 50\n",
    "verbose = True\n",
    "\n",
    "# average plots for QuicGraphLassoEBIC\n",
    "ae = AverageError(\n",
    "        model_selection_estimator=QuicGraphLassoEBIC(\n",
    "            gamma=0.0),\n",
    "        n_features=n_features,\n",
    "        n_trials=n_trials,\n",
    "        verbose=verbose,\n",
    "        adj_type='banded',\n",
    "    )\n",
    "ae.fit()\n",
    "ae.show()\n",
    "plt.suptitle('QuicGraphLassoEBIC (BIC)')"
   ]
  },
  {
   "cell_type": "code",
   "execution_count": null,
   "metadata": {
    "collapsed": false
   },
   "outputs": [],
   "source": []
  },
  {
   "cell_type": "code",
   "execution_count": null,
   "metadata": {
    "collapsed": true
   },
   "outputs": [],
   "source": []
  }
 ],
 "metadata": {
  "kernelspec": {
   "display_name": "Python 2 (SageMath)",
   "language": "python",
   "name": "python2"
  },
  "language_info": {
   "codemirror_mode": {
    "name": "ipython",
    "version": 2
   },
   "file_extension": ".py",
   "mimetype": "text/x-python",
   "name": "python",
   "nbconvert_exporter": "python",
   "pygments_lexer": "ipython2",
   "version": "2.7.10"
  }
 },
 "nbformat": 4,
 "nbformat_minor": 0
}
